{
 "cells": [
  {
   "cell_type": "code",
   "execution_count": null,
   "id": "7d204987-2b40-44d9-a5ec-671009e32c99",
   "metadata": {},
   "outputs": [],
   "source": [
    "import pandas as pd"
   ]
  },
  {
   "cell_type": "code",
   "execution_count": null,
   "id": "b0c681f4-9f51-4fe7-af8c-141d929b31f3",
   "metadata": {},
   "outputs": [],
   "source": [
    "pd."
   ]
  },
  {
   "cell_type": "code",
   "execution_count": null,
   "id": "0602affb-57b1-4042-ac5a-cdcc1136bd40",
   "metadata": {},
   "outputs": [],
   "source": [
    "#Create a CSV\n",
    "df = pd.read_csv('telco_churn.csv')"
   ]
  },
  {
   "cell_type": "code",
   "execution_count": null,
   "id": "65a9a0ad-b5a1-425c-b125-eaef272d1660",
   "metadata": {},
   "outputs": [],
   "source": [
    "#1.2\n",
    "tempdict = {'col1' [1,2,2], 'col2' [4,5,6], 'col3' [7,8,9]}"
   ]
  },
  {
   "cell_type": "code",
   "execution_count": null,
   "id": "d8d7137f-0e2c-401a-83d8-1c8fa83a26b5",
   "metadata": {},
   "outputs": [],
   "source": [
    "dictdf = pd.DataFrame.from_dic(tempdict)"
   ]
  },
  {
   "cell_type": "code",
   "execution_count": null,
   "id": "4c1c6cb8-413c-462a-b066-ff19c733dcec",
   "metadata": {},
   "outputs": [],
   "source": [
    "#2.Read\n",
    "df.head(10)"
   ]
  },
  {
   "cell_type": "code",
   "execution_count": null,
   "id": "638a2ac7-a5e3-410d-b3b0-238070cce3aa",
   "metadata": {},
   "outputs": [],
   "source": [
    "dict.head()"
   ]
  },
  {
   "cell_type": "code",
   "execution_count": null,
   "id": "8a45a5d7-f243-47cb-86f3-02dd5d194f88",
   "metadata": {},
   "outputs": [],
   "source": [
    "df.tail()"
   ]
  },
  {
   "cell_type": "code",
   "execution_count": null,
   "id": "49d6449f-5cb7-451f-b529-a9bf608f326b",
   "metadata": {},
   "outputs": [],
   "source": [
    "#Columns and Data Types 2.2\n",
    "df.columns"
   ]
  },
  {
   "cell_type": "code",
   "execution_count": null,
   "id": "98eff727-430c-4d83-bcd0-76ab0740e507",
   "metadata": {},
   "outputs": [],
   "source": [
    "df.dtypes"
   ]
  },
  {
   "cell_type": "code",
   "execution_count": null,
   "id": "af0c8870-816b-4099-9ea6-e13e4d7aae87",
   "metadata": {},
   "outputs": [],
   "source": [
    "#Summary Statistics\n",
    "df.describe()"
   ]
  },
  {
   "cell_type": "code",
   "execution_count": null,
   "id": "6366eb16-d468-4b86-a654-6163566b2952",
   "metadata": {},
   "outputs": [],
   "source": [
    "df.describe(include='object')"
   ]
  },
  {
   "cell_type": "code",
   "execution_count": null,
   "id": "fbd268e9-a3d7-43da-870c-5fc1e1441e40",
   "metadata": {},
   "outputs": [],
   "source": [
    "#Filtering Columns\n",
    "df.State"
   ]
  },
  {
   "cell_type": "code",
   "execution_count": null,
   "id": "d10bc42f-d15c-49f3-a80f-ded73d1bcd48",
   "metadata": {},
   "outputs": [],
   "source": [
    "df['International plan']"
   ]
  },
  {
   "cell_type": "code",
   "execution_count": null,
   "id": "8ec99aa1-f9f8-4459-925c-b324c12855ed",
   "metadata": {},
   "outputs": [],
   "source": [
    "df['State', 'International plan']]"
   ]
  },
  {
   "cell_type": "code",
   "execution_count": null,
   "id": "95e9ff64-f24e-4397-9ea5-926e0deaa81c",
   "metadata": {},
   "outputs": [],
   "source": [
    "df.Churn.unique()"
   ]
  },
  {
   "cell_type": "code",
   "execution_count": null,
   "id": "68acc830-a4ee-479a-8040-e842fb434af9",
   "metadata": {},
   "outputs": [],
   "source": [
    "#Filtering Rows\n",
    "df.head()"
   ]
  },
  {
   "cell_type": "code",
   "execution_count": null,
   "id": "b315657b-b4cf-4e6c-90c0-ee114726cd79",
   "metadata": {},
   "outputs": [],
   "source": [
    "df[df['International plan']=='No']"
   ]
  },
  {
   "cell_type": "code",
   "execution_count": null,
   "id": "171fa0a9-7fac-4b2c-bb00-8a5becc2ffa0",
   "metadata": {},
   "outputs": [],
   "source": [
    "df[(df['International plan']=='No') & (df['Churn']==True)]"
   ]
  },
  {
   "cell_type": "code",
   "execution_count": null,
   "id": "d9d47c3f-4724-49f3-906c-ad12486fc967",
   "metadata": {},
   "outputs": [],
   "source": [
    "#Indexing with iloc\n",
    "di.iloc[14]"
   ]
  },
  {
   "cell_type": "code",
   "execution_count": null,
   "id": "6049332f-1e5c-4d84-861c-70a1a39b6066",
   "metadata": {},
   "outputs": [],
   "source": [
    "df.iloc[14,-1]"
   ]
  },
  {
   "cell_type": "code",
   "execution_count": null,
   "id": "0369f238-ce64-43a4-ac8e-adca5ff1b0cc",
   "metadata": {},
   "outputs": [],
   "source": [
    "df.iloc[22:33]"
   ]
  },
  {
   "cell_type": "code",
   "execution_count": null,
   "id": "64b73d97-84a4-418e-ad60-8b571ca8e390",
   "metadata": {},
   "outputs": [],
   "source": [
    "#Indexing with iloc\n",
    "state = df.copy()\n",
    "state.set_index('State', inplace=True)"
   ]
  },
  {
   "cell_type": "code",
   "execution_count": null,
   "id": "adb912a1-f4f6-4e29-a429-72ed9004b389",
   "metadata": {},
   "outputs": [],
   "source": [
    "state.head()"
   ]
  },
  {
   "cell_type": "code",
   "execution_count": null,
   "id": "1a43e628-a55d-42a2-920b-d52727c4a91b",
   "metadata": {},
   "outputs": [],
   "source": [
    "state.loc['OH']"
   ]
  },
  {
   "cell_type": "code",
   "execution_count": null,
   "id": "57b24091-ea2b-43ca-bbd5-2af622a844c4",
   "metadata": {},
   "outputs": [],
   "source": [
    "#Update\n",
    "df.isnull().sum()"
   ]
  },
  {
   "cell_type": "code",
   "execution_count": null,
   "id": "4cba8203-cee4-4390-80cd-26d0c69ebc3d",
   "metadata": {},
   "outputs": [],
   "source": [
    "df.dropna(inplace=True)"
   ]
  },
  {
   "cell_type": "code",
   "execution_count": null,
   "id": "11dea66c-65be-41d2-85a6-50a237963ea4",
   "metadata": {},
   "outputs": [],
   "source": [
    "df.isnull().sum()"
   ]
  },
  {
   "cell_type": "code",
   "execution_count": null,
   "id": "42e0e592-08ce-4f0d-998e-d1fa322933aa",
   "metadata": {},
   "outputs": [],
   "source": [
    "#Dropping Columns\n",
    "df.drop('Area code', axis=1)"
   ]
  },
  {
   "cell_type": "code",
   "execution_count": null,
   "id": "dd9c24ad-4e86-45a3-8777-f694f22b433f",
   "metadata": {},
   "outputs": [],
   "source": [
    "#Creating Calculated Columns\n",
    "df['New Column'] = df['Total night minutes'] + df['Total intl minutes']"
   ]
  },
  {
   "cell_type": "code",
   "execution_count": null,
   "id": "bbd62065-802f-4209-9951-8a689ab29d1b",
   "metadata": {},
   "outputs": [],
   "source": [
    "df.head()"
   ]
  },
  {
   "cell_type": "code",
   "execution_count": null,
   "id": "c9b9f403-df8f-42b1-9460-c3237d41bd79",
   "metadata": {},
   "outputs": [],
   "source": [
    "#Updating Entire Columns\n",
    "df['New Column'] = 100"
   ]
  },
  {
   "cell_type": "code",
   "execution_count": null,
   "id": "23855de9-25b9-4a21-9c5f-0b87ec5f7569",
   "metadata": {},
   "outputs": [],
   "source": [
    "df.head()"
   ]
  },
  {
   "cell_type": "code",
   "execution_count": null,
   "id": "6f4b073a-8221-435b-b886-931d3922435c",
   "metadata": {},
   "outputs": [],
   "source": [
    "#Updating Single Value\n",
    "df.iloc[0, -1] = 10"
   ]
  },
  {
   "cell_type": "code",
   "execution_count": null,
   "id": "cbcd1903-fbb2-4cb1-ab40-0f841c4c6c70",
   "metadata": {},
   "outputs": [],
   "source": [
    "df.head()"
   ]
  },
  {
   "cell_type": "code",
   "execution_count": null,
   "id": "278280d6-492e-4466-bd3e-2b9b86afc623",
   "metadata": {},
   "outputs": [],
   "source": [
    "#Condition Based Apply\n",
    "df['Churn Binary'] = df['Churn'].apply(lambda x: 1 if x==True else 0)"
   ]
  },
  {
   "cell_type": "code",
   "execution_count": null,
   "id": "8b105a5d-190f-43dd-933b-9e20a0f244c4",
   "metadata": {},
   "outputs": [],
   "source": [
    "df[df['Churn']==True].head()"
   ]
  },
  {
   "cell_type": "code",
   "execution_count": null,
   "id": "658301cc-b424-4980-9355-355ef760afeb",
   "metadata": {},
   "outputs": [],
   "source": [
    "#Delete Output\n",
    "df.to_csv('output.csv')"
   ]
  },
  {
   "cell_type": "code",
   "execution_count": null,
   "id": "fce4a8f8-e44b-4d3b-8a2f-8b87733e4c4d",
   "metadata": {},
   "outputs": [],
   "source": [
    "df.to_json()"
   ]
  }
 ],
 "metadata": {
  "kernelspec": {
   "display_name": "anaconda-2024.02-py310",
   "language": "python",
   "name": "conda-env-anaconda-2024.02-py310-py"
  },
  "language_info": {
   "codemirror_mode": {
    "name": "ipython",
    "version": 3
   },
   "file_extension": ".py",
   "mimetype": "text/x-python",
   "name": "python",
   "nbconvert_exporter": "python",
   "pygments_lexer": "ipython3",
   "version": "3.10.14"
  }
 },
 "nbformat": 4,
 "nbformat_minor": 5
}
